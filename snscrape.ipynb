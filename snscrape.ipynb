{
 "cells": [
  {
   "cell_type": "code",
   "execution_count": 1,
   "metadata": {},
   "outputs": [
    {
     "name": "stdout",
     "output_type": "stream",
     "text": [
      "0\n",
      "1\n",
      "2\n",
      "3\n",
      "4\n",
      "5\n",
      "6\n",
      "7\n",
      "8\n",
      "9\n",
      "10\n",
      "11\n",
      "12\n",
      "13\n",
      "14\n",
      "15\n",
      "16\n",
      "17\n",
      "18\n",
      "19\n"
     ]
    },
    {
     "name": "stderr",
     "output_type": "stream",
     "text": [
      "C:\\Users\\User\\AppData\\Local\\Temp\\ipykernel_12172\\1555457519.py:22: DeprecatedFeatureWarning: content is deprecated, use rawContent instead\n",
      "  tweets_list.append([tweet.id, tweet.url, tweet.user.username, tweet.content,\n"
     ]
    },
    {
     "name": "stdout",
     "output_type": "stream",
     "text": [
      "20\n",
      "              Tweet_ID                                                URL  \\\n",
      "0  1645902681314312193  https://twitter.com/edi750920/status/164590268...   \n",
      "1  1616724349930860545  https://twitter.com/funniesvt/status/161672434...   \n",
      "2  1612095780827058176  https://twitter.com/wargasnackvid/status/16120...   \n",
      "3  1612094594019381251  https://twitter.com/IndoSentrisID/status/16120...   \n",
      "4  1586976868040777728  https://twitter.com/cangkifr/status/1586976868...   \n",
      "5  1567036522377138179  https://twitter.com/Tomi07886640/status/156703...   \n",
      "6  1508111321031610376  https://twitter.com/iptadunk/status/1508111321...   \n",
      "7  1504108988530495494  https://twitter.com/wangetarrr/status/15041089...   \n",
      "8  1503307858011557891  https://twitter.com/sitikusparti/status/150330...   \n",
      "9  1498618245460668417  https://twitter.com/Andrianzaruddi1/status/149...   \n",
      "\n",
      "      Account_Name                                               Text  \\\n",
      "0        edi750920  @Miduk17 Tu di ibokota baru mungkin jutaan poh...   \n",
      "1        funniesvt  Baru liat chat adek gue, dan gue mellow bgt al...   \n",
      "2    wargasnackvid  IKN Nusantara, Ibokota Baru Indonesia Penuh Se...   \n",
      "3    IndoSentrisID  IKN Nusantara, Ibokota Baru Indonesia Penuh Se...   \n",
      "4         cangkifr  Jelajah Virtual IKN sebuah karya anak muda yg ...   \n",
      "5     Tomi07886640  @_ekokuntadhi Bukan bangkrut gara\" rmbangunan ...   \n",
      "6         iptadunk  @detikcom Negara membeni kepada Rakyatnya, jan...   \n",
      "7       wangetarrr  @SaifuddinSay Ibokota baru biar indonesia lebi...   \n",
      "8     sitikusparti  @ruang_spasi @KelanaJiwa3 @CNNIndonesia Mau bu...   \n",
      "9  Andrianzaruddi1  @CNNIndonesia Lucu Negri ini bisanya cuma cari...   \n",
      "\n",
      "                   Datetime   Source  Number_Retweets  Number_Likes  \\\n",
      "0 2023-04-11 21:32:33+00:00  Twitter                0             8   \n",
      "1 2023-01-21 09:08:16+00:00  Twitter                0             0   \n",
      "2 2023-01-08 14:36:00+00:00  Twitter                0             0   \n",
      "3 2023-01-08 14:31:17+00:00  Twitter                0             0   \n",
      "4 2022-10-31 07:02:24+00:00  Twitter                0             0   \n",
      "5 2022-09-06 06:26:35+00:00  Twitter                0             2   \n",
      "6 2022-03-27 15:58:52+00:00  Twitter                0             0   \n",
      "7 2022-03-16 14:55:02+00:00  Twitter                0             1   \n",
      "8 2022-03-14 09:51:38+00:00  Twitter                0             9   \n",
      "9 2022-03-01 11:16:47+00:00  Twitter                6            41   \n",
      "\n",
      "   Number_Comments  \n",
      "0                0  \n",
      "1                1  \n",
      "2                1  \n",
      "3                1  \n",
      "4                0  \n",
      "5                0  \n",
      "6                0  \n",
      "7                0  \n",
      "8                1  \n",
      "9                3  \n"
     ]
    }
   ],
   "source": [
    "import pandas as pd\n",
    "import sqlite3\n",
    "import re\n",
    "import numpy as np\n",
    "from time import sleep\n",
    "import time\n",
    "import sqlite3 as sq\n",
    "import snscrape.modules.twitter as sntwitter\n",
    "\n",
    "\n",
    "maxTweets = 20\n",
    "\n",
    "# Creating list to append tweet data to\n",
    "tweets_list = []\n",
    "source = \"Twitter\"\n",
    "\n",
    "# Using TwitterSearchScraper to scrape data\n",
    "for i, tweet in enumerate(sntwitter.TwitterSearchScraper('ibokota baru').get_items()):\n",
    "    if i > maxTweets:\n",
    "        break\n",
    "    print(i)\n",
    "    tweets_list.append([tweet.id, tweet.url, tweet.user.username, tweet.content,\n",
    "                       tweet.date, source, tweet.retweetCount, tweet.likeCount, tweet.replyCount])\n",
    "\n",
    "tweets_df = pd.DataFrame(tweets_list, columns=['Tweet_ID', 'URL', \"Account_Name\",\n",
    "                         'Text', 'Datetime', 'Source', 'Number_Retweets', 'Number_Likes', 'Number_Comments'])\n",
    "\n",
    "\n",
    "print(tweets_df[:10])\n"
   ]
  }
 ],
 "metadata": {
  "kernelspec": {
   "display_name": "base",
   "language": "python",
   "name": "python3"
  },
  "language_info": {
   "codemirror_mode": {
    "name": "ipython",
    "version": 3
   },
   "file_extension": ".py",
   "mimetype": "text/x-python",
   "name": "python",
   "nbconvert_exporter": "python",
   "pygments_lexer": "ipython3",
   "version": "3.9.13"
  },
  "orig_nbformat": 4
 },
 "nbformat": 4,
 "nbformat_minor": 2
}
